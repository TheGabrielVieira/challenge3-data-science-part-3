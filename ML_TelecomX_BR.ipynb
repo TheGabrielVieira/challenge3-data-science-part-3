{
 "cells": [
  {
   "cell_type": "markdown",
   "id": "f1024979",
   "metadata": {},
   "source": [
    "# 🛠️ 1. Preparação dos dados"
   ]
  },
  {
   "cell_type": "markdown",
   "id": "f2397487",
   "metadata": {},
   "source": [
    "### 1.1 Extração do Arquivo Tratado"
   ]
  },
  {
   "cell_type": "code",
   "execution_count": 24,
   "id": "09db6e30",
   "metadata": {},
   "outputs": [],
   "source": [
    "import pandas as pd"
   ]
  },
  {
   "cell_type": "code",
   "execution_count": 25,
   "id": "c9c1c399",
   "metadata": {},
   "outputs": [],
   "source": [
    "df = pd.read_csv('data\\\\telecomx_data_gold.csv')"
   ]
  },
  {
   "cell_type": "code",
   "execution_count": 26,
   "id": "c5962f1a",
   "metadata": {},
   "outputs": [
    {
     "data": {
      "text/html": [
       "<div>\n",
       "<style scoped>\n",
       "    .dataframe tbody tr th:only-of-type {\n",
       "        vertical-align: middle;\n",
       "    }\n",
       "\n",
       "    .dataframe tbody tr th {\n",
       "        vertical-align: top;\n",
       "    }\n",
       "\n",
       "    .dataframe thead th {\n",
       "        text-align: right;\n",
       "    }\n",
       "</style>\n",
       "<table border=\"1\" class=\"dataframe\">\n",
       "  <thead>\n",
       "    <tr style=\"text-align: right;\">\n",
       "      <th></th>\n",
       "      <th>customerID</th>\n",
       "      <th>Churn</th>\n",
       "      <th>customer.gender</th>\n",
       "      <th>customer.SeniorCitizen</th>\n",
       "      <th>customer.Partner</th>\n",
       "      <th>customer.Dependents</th>\n",
       "      <th>customer.tenure</th>\n",
       "      <th>phone.PhoneService</th>\n",
       "      <th>phone.MultipleLines</th>\n",
       "      <th>internet.InternetService</th>\n",
       "      <th>...</th>\n",
       "      <th>internet.DeviceProtection</th>\n",
       "      <th>internet.TechSupport</th>\n",
       "      <th>internet.StreamingTV</th>\n",
       "      <th>internet.StreamingMovies</th>\n",
       "      <th>account.Contract</th>\n",
       "      <th>account.PaperlessBilling</th>\n",
       "      <th>account.PaymentMethod</th>\n",
       "      <th>account.Charges.Monthly</th>\n",
       "      <th>account.Charges.Total</th>\n",
       "      <th>Daily_Charges</th>\n",
       "    </tr>\n",
       "  </thead>\n",
       "  <tbody>\n",
       "    <tr>\n",
       "      <th>0</th>\n",
       "      <td>0002-ORFBO</td>\n",
       "      <td>0</td>\n",
       "      <td>Female</td>\n",
       "      <td>0</td>\n",
       "      <td>1</td>\n",
       "      <td>1</td>\n",
       "      <td>9</td>\n",
       "      <td>1</td>\n",
       "      <td>No</td>\n",
       "      <td>DSL</td>\n",
       "      <td>...</td>\n",
       "      <td>No</td>\n",
       "      <td>Yes</td>\n",
       "      <td>Yes</td>\n",
       "      <td>No</td>\n",
       "      <td>One year</td>\n",
       "      <td>1</td>\n",
       "      <td>Mailed check</td>\n",
       "      <td>65.6</td>\n",
       "      <td>593.30</td>\n",
       "      <td>2.156476</td>\n",
       "    </tr>\n",
       "    <tr>\n",
       "      <th>1</th>\n",
       "      <td>0003-MKNFE</td>\n",
       "      <td>0</td>\n",
       "      <td>Male</td>\n",
       "      <td>0</td>\n",
       "      <td>0</td>\n",
       "      <td>0</td>\n",
       "      <td>9</td>\n",
       "      <td>1</td>\n",
       "      <td>Yes</td>\n",
       "      <td>DSL</td>\n",
       "      <td>...</td>\n",
       "      <td>No</td>\n",
       "      <td>No</td>\n",
       "      <td>No</td>\n",
       "      <td>Yes</td>\n",
       "      <td>Month-to-month</td>\n",
       "      <td>0</td>\n",
       "      <td>Mailed check</td>\n",
       "      <td>59.9</td>\n",
       "      <td>542.40</td>\n",
       "      <td>1.969099</td>\n",
       "    </tr>\n",
       "    <tr>\n",
       "      <th>2</th>\n",
       "      <td>0004-TLHLJ</td>\n",
       "      <td>1</td>\n",
       "      <td>Male</td>\n",
       "      <td>0</td>\n",
       "      <td>0</td>\n",
       "      <td>0</td>\n",
       "      <td>4</td>\n",
       "      <td>1</td>\n",
       "      <td>No</td>\n",
       "      <td>Fiber optic</td>\n",
       "      <td>...</td>\n",
       "      <td>Yes</td>\n",
       "      <td>No</td>\n",
       "      <td>No</td>\n",
       "      <td>No</td>\n",
       "      <td>Month-to-month</td>\n",
       "      <td>1</td>\n",
       "      <td>Electronic check</td>\n",
       "      <td>73.9</td>\n",
       "      <td>280.85</td>\n",
       "      <td>2.429323</td>\n",
       "    </tr>\n",
       "    <tr>\n",
       "      <th>3</th>\n",
       "      <td>0011-IGKFF</td>\n",
       "      <td>1</td>\n",
       "      <td>Male</td>\n",
       "      <td>1</td>\n",
       "      <td>1</td>\n",
       "      <td>0</td>\n",
       "      <td>13</td>\n",
       "      <td>1</td>\n",
       "      <td>No</td>\n",
       "      <td>Fiber optic</td>\n",
       "      <td>...</td>\n",
       "      <td>Yes</td>\n",
       "      <td>No</td>\n",
       "      <td>Yes</td>\n",
       "      <td>Yes</td>\n",
       "      <td>Month-to-month</td>\n",
       "      <td>1</td>\n",
       "      <td>Electronic check</td>\n",
       "      <td>98.0</td>\n",
       "      <td>1237.85</td>\n",
       "      <td>3.221565</td>\n",
       "    </tr>\n",
       "    <tr>\n",
       "      <th>4</th>\n",
       "      <td>0013-EXCHZ</td>\n",
       "      <td>1</td>\n",
       "      <td>Female</td>\n",
       "      <td>1</td>\n",
       "      <td>1</td>\n",
       "      <td>0</td>\n",
       "      <td>3</td>\n",
       "      <td>1</td>\n",
       "      <td>No</td>\n",
       "      <td>Fiber optic</td>\n",
       "      <td>...</td>\n",
       "      <td>No</td>\n",
       "      <td>Yes</td>\n",
       "      <td>Yes</td>\n",
       "      <td>No</td>\n",
       "      <td>Month-to-month</td>\n",
       "      <td>1</td>\n",
       "      <td>Mailed check</td>\n",
       "      <td>83.9</td>\n",
       "      <td>267.40</td>\n",
       "      <td>2.758054</td>\n",
       "    </tr>\n",
       "  </tbody>\n",
       "</table>\n",
       "<p>5 rows × 22 columns</p>\n",
       "</div>"
      ],
      "text/plain": [
       "   customerID  Churn customer.gender  customer.SeniorCitizen  \\\n",
       "0  0002-ORFBO      0          Female                       0   \n",
       "1  0003-MKNFE      0            Male                       0   \n",
       "2  0004-TLHLJ      1            Male                       0   \n",
       "3  0011-IGKFF      1            Male                       1   \n",
       "4  0013-EXCHZ      1          Female                       1   \n",
       "\n",
       "   customer.Partner  customer.Dependents  customer.tenure  phone.PhoneService  \\\n",
       "0                 1                    1                9                   1   \n",
       "1                 0                    0                9                   1   \n",
       "2                 0                    0                4                   1   \n",
       "3                 1                    0               13                   1   \n",
       "4                 1                    0                3                   1   \n",
       "\n",
       "  phone.MultipleLines internet.InternetService  ... internet.DeviceProtection  \\\n",
       "0                  No                      DSL  ...                        No   \n",
       "1                 Yes                      DSL  ...                        No   \n",
       "2                  No              Fiber optic  ...                       Yes   \n",
       "3                  No              Fiber optic  ...                       Yes   \n",
       "4                  No              Fiber optic  ...                        No   \n",
       "\n",
       "  internet.TechSupport internet.StreamingTV internet.StreamingMovies  \\\n",
       "0                  Yes                  Yes                       No   \n",
       "1                   No                   No                      Yes   \n",
       "2                   No                   No                       No   \n",
       "3                   No                  Yes                      Yes   \n",
       "4                  Yes                  Yes                       No   \n",
       "\n",
       "  account.Contract account.PaperlessBilling account.PaymentMethod  \\\n",
       "0         One year                        1          Mailed check   \n",
       "1   Month-to-month                        0          Mailed check   \n",
       "2   Month-to-month                        1      Electronic check   \n",
       "3   Month-to-month                        1      Electronic check   \n",
       "4   Month-to-month                        1          Mailed check   \n",
       "\n",
       "   account.Charges.Monthly account.Charges.Total  Daily_Charges  \n",
       "0                     65.6                593.30       2.156476  \n",
       "1                     59.9                542.40       1.969099  \n",
       "2                     73.9                280.85       2.429323  \n",
       "3                     98.0               1237.85       3.221565  \n",
       "4                     83.9                267.40       2.758054  \n",
       "\n",
       "[5 rows x 22 columns]"
      ]
     },
     "execution_count": 26,
     "metadata": {},
     "output_type": "execute_result"
    }
   ],
   "source": [
    "df.head()"
   ]
  },
  {
   "cell_type": "code",
   "execution_count": 27,
   "id": "afbdc251",
   "metadata": {},
   "outputs": [
    {
     "name": "stdout",
     "output_type": "stream",
     "text": [
      "<class 'pandas.core.frame.DataFrame'>\n",
      "RangeIndex: 7043 entries, 0 to 7042\n",
      "Data columns (total 22 columns):\n",
      " #   Column                     Non-Null Count  Dtype  \n",
      "---  ------                     --------------  -----  \n",
      " 0   customerID                 7043 non-null   object \n",
      " 1   Churn                      7043 non-null   int64  \n",
      " 2   customer.gender            7043 non-null   object \n",
      " 3   customer.SeniorCitizen     7043 non-null   int64  \n",
      " 4   customer.Partner           7043 non-null   int64  \n",
      " 5   customer.Dependents        7043 non-null   int64  \n",
      " 6   customer.tenure            7043 non-null   int64  \n",
      " 7   phone.PhoneService         7043 non-null   int64  \n",
      " 8   phone.MultipleLines        7043 non-null   object \n",
      " 9   internet.InternetService   7043 non-null   object \n",
      " 10  internet.OnlineSecurity    7043 non-null   object \n",
      " 11  internet.OnlineBackup      7043 non-null   object \n",
      " 12  internet.DeviceProtection  7043 non-null   object \n",
      " 13  internet.TechSupport       7043 non-null   object \n",
      " 14  internet.StreamingTV       7043 non-null   object \n",
      " 15  internet.StreamingMovies   7043 non-null   object \n",
      " 16  account.Contract           7043 non-null   object \n",
      " 17  account.PaperlessBilling   7043 non-null   int64  \n",
      " 18  account.PaymentMethod      7043 non-null   object \n",
      " 19  account.Charges.Monthly    7043 non-null   float64\n",
      " 20  account.Charges.Total      7043 non-null   float64\n",
      " 21  Daily_Charges              7043 non-null   float64\n",
      "dtypes: float64(3), int64(7), object(12)\n",
      "memory usage: 1.2+ MB\n"
     ]
    }
   ],
   "source": [
    "df.info()"
   ]
  },
  {
   "cell_type": "markdown",
   "id": "4d547a37",
   "metadata": {},
   "source": [
    "### 1.2 Remoção de Colunas Irrelevantes"
   ]
  },
  {
   "cell_type": "code",
   "execution_count": 28,
   "id": "87a3b3ba",
   "metadata": {},
   "outputs": [
    {
     "data": {
      "text/plain": [
       "Index(['customerID', 'Churn', 'customer.gender', 'customer.SeniorCitizen',\n",
       "       'customer.Partner', 'customer.Dependents', 'customer.tenure',\n",
       "       'phone.PhoneService', 'phone.MultipleLines', 'internet.InternetService',\n",
       "       'internet.OnlineSecurity', 'internet.OnlineBackup',\n",
       "       'internet.DeviceProtection', 'internet.TechSupport',\n",
       "       'internet.StreamingTV', 'internet.StreamingMovies', 'account.Contract',\n",
       "       'account.PaperlessBilling', 'account.PaymentMethod',\n",
       "       'account.Charges.Monthly', 'account.Charges.Total', 'Daily_Charges'],\n",
       "      dtype='object')"
      ]
     },
     "execution_count": 28,
     "metadata": {},
     "output_type": "execute_result"
    }
   ],
   "source": [
    "df.columns"
   ]
  },
  {
   "cell_type": "code",
   "execution_count": 29,
   "id": "87d3828b",
   "metadata": {},
   "outputs": [
    {
     "data": {
      "text/plain": [
       "Index(['Churn', 'customer.gender', 'customer.SeniorCitizen',\n",
       "       'customer.Partner', 'customer.Dependents', 'customer.tenure',\n",
       "       'phone.PhoneService', 'phone.MultipleLines', 'internet.InternetService',\n",
       "       'internet.OnlineSecurity', 'internet.OnlineBackup',\n",
       "       'internet.DeviceProtection', 'internet.TechSupport',\n",
       "       'internet.StreamingTV', 'internet.StreamingMovies', 'account.Contract',\n",
       "       'account.PaperlessBilling', 'account.PaymentMethod',\n",
       "       'account.Charges.Monthly', 'account.Charges.Total', 'Daily_Charges'],\n",
       "      dtype='object')"
      ]
     },
     "execution_count": 29,
     "metadata": {},
     "output_type": "execute_result"
    }
   ],
   "source": [
    "df = df.drop('customerID', axis=1)\n",
    "df.columns\n"
   ]
  },
  {
   "cell_type": "markdown",
   "id": "a8562539",
   "metadata": {},
   "source": [
    "### 1.3 Encoding"
   ]
  },
  {
   "cell_type": "code",
   "execution_count": 30,
   "id": "8ee65162",
   "metadata": {},
   "outputs": [],
   "source": [
    "# Criação de uma cópia do DataFrame, por garantia.\n",
    "df_encoding = df.copy()"
   ]
  },
  {
   "cell_type": "code",
   "execution_count": 31,
   "id": "30c774ae",
   "metadata": {},
   "outputs": [
    {
     "name": "stdout",
     "output_type": "stream",
     "text": [
      "Colunas categóricas: ['customer.gender', 'phone.MultipleLines', 'internet.InternetService', 'internet.OnlineSecurity', 'internet.OnlineBackup', 'internet.DeviceProtection', 'internet.TechSupport', 'internet.StreamingTV', 'internet.StreamingMovies', 'account.Contract', 'account.PaymentMethod']\n"
     ]
    }
   ],
   "source": [
    "# Identificar colunas categóricas\n",
    "colunas_categoricas = df_encoding.select_dtypes(include=['object', 'category']).columns\n",
    "print(\"Colunas categóricas:\", colunas_categoricas.tolist())"
   ]
  },
  {
   "cell_type": "code",
   "execution_count": 32,
   "id": "a8958a24",
   "metadata": {},
   "outputs": [
    {
     "data": {
      "text/html": [
       "<div>\n",
       "<style scoped>\n",
       "    .dataframe tbody tr th:only-of-type {\n",
       "        vertical-align: middle;\n",
       "    }\n",
       "\n",
       "    .dataframe tbody tr th {\n",
       "        vertical-align: top;\n",
       "    }\n",
       "\n",
       "    .dataframe thead th {\n",
       "        text-align: right;\n",
       "    }\n",
       "</style>\n",
       "<table border=\"1\" class=\"dataframe\">\n",
       "  <thead>\n",
       "    <tr style=\"text-align: right;\">\n",
       "      <th></th>\n",
       "      <th>Churn</th>\n",
       "      <th>customer.SeniorCitizen</th>\n",
       "      <th>customer.Partner</th>\n",
       "      <th>customer.Dependents</th>\n",
       "      <th>customer.tenure</th>\n",
       "      <th>phone.PhoneService</th>\n",
       "      <th>account.PaperlessBilling</th>\n",
       "      <th>account.Charges.Monthly</th>\n",
       "      <th>account.Charges.Total</th>\n",
       "      <th>Daily_Charges</th>\n",
       "      <th>...</th>\n",
       "      <th>internet.TechSupport_Yes</th>\n",
       "      <th>internet.StreamingTV_No internet service</th>\n",
       "      <th>internet.StreamingTV_Yes</th>\n",
       "      <th>internet.StreamingMovies_No internet service</th>\n",
       "      <th>internet.StreamingMovies_Yes</th>\n",
       "      <th>account.Contract_One year</th>\n",
       "      <th>account.Contract_Two year</th>\n",
       "      <th>account.PaymentMethod_Credit card (automatic)</th>\n",
       "      <th>account.PaymentMethod_Electronic check</th>\n",
       "      <th>account.PaymentMethod_Mailed check</th>\n",
       "    </tr>\n",
       "  </thead>\n",
       "  <tbody>\n",
       "    <tr>\n",
       "      <th>0</th>\n",
       "      <td>0</td>\n",
       "      <td>0</td>\n",
       "      <td>1</td>\n",
       "      <td>1</td>\n",
       "      <td>9</td>\n",
       "      <td>1</td>\n",
       "      <td>1</td>\n",
       "      <td>65.6</td>\n",
       "      <td>593.30</td>\n",
       "      <td>2.156476</td>\n",
       "      <td>...</td>\n",
       "      <td>1</td>\n",
       "      <td>0</td>\n",
       "      <td>1</td>\n",
       "      <td>0</td>\n",
       "      <td>0</td>\n",
       "      <td>1</td>\n",
       "      <td>0</td>\n",
       "      <td>0</td>\n",
       "      <td>0</td>\n",
       "      <td>1</td>\n",
       "    </tr>\n",
       "    <tr>\n",
       "      <th>1</th>\n",
       "      <td>0</td>\n",
       "      <td>0</td>\n",
       "      <td>0</td>\n",
       "      <td>0</td>\n",
       "      <td>9</td>\n",
       "      <td>1</td>\n",
       "      <td>0</td>\n",
       "      <td>59.9</td>\n",
       "      <td>542.40</td>\n",
       "      <td>1.969099</td>\n",
       "      <td>...</td>\n",
       "      <td>0</td>\n",
       "      <td>0</td>\n",
       "      <td>0</td>\n",
       "      <td>0</td>\n",
       "      <td>1</td>\n",
       "      <td>0</td>\n",
       "      <td>0</td>\n",
       "      <td>0</td>\n",
       "      <td>0</td>\n",
       "      <td>1</td>\n",
       "    </tr>\n",
       "    <tr>\n",
       "      <th>2</th>\n",
       "      <td>1</td>\n",
       "      <td>0</td>\n",
       "      <td>0</td>\n",
       "      <td>0</td>\n",
       "      <td>4</td>\n",
       "      <td>1</td>\n",
       "      <td>1</td>\n",
       "      <td>73.9</td>\n",
       "      <td>280.85</td>\n",
       "      <td>2.429323</td>\n",
       "      <td>...</td>\n",
       "      <td>0</td>\n",
       "      <td>0</td>\n",
       "      <td>0</td>\n",
       "      <td>0</td>\n",
       "      <td>0</td>\n",
       "      <td>0</td>\n",
       "      <td>0</td>\n",
       "      <td>0</td>\n",
       "      <td>1</td>\n",
       "      <td>0</td>\n",
       "    </tr>\n",
       "    <tr>\n",
       "      <th>3</th>\n",
       "      <td>1</td>\n",
       "      <td>1</td>\n",
       "      <td>1</td>\n",
       "      <td>0</td>\n",
       "      <td>13</td>\n",
       "      <td>1</td>\n",
       "      <td>1</td>\n",
       "      <td>98.0</td>\n",
       "      <td>1237.85</td>\n",
       "      <td>3.221565</td>\n",
       "      <td>...</td>\n",
       "      <td>0</td>\n",
       "      <td>0</td>\n",
       "      <td>1</td>\n",
       "      <td>0</td>\n",
       "      <td>1</td>\n",
       "      <td>0</td>\n",
       "      <td>0</td>\n",
       "      <td>0</td>\n",
       "      <td>1</td>\n",
       "      <td>0</td>\n",
       "    </tr>\n",
       "    <tr>\n",
       "      <th>4</th>\n",
       "      <td>1</td>\n",
       "      <td>1</td>\n",
       "      <td>1</td>\n",
       "      <td>0</td>\n",
       "      <td>3</td>\n",
       "      <td>1</td>\n",
       "      <td>1</td>\n",
       "      <td>83.9</td>\n",
       "      <td>267.40</td>\n",
       "      <td>2.758054</td>\n",
       "      <td>...</td>\n",
       "      <td>1</td>\n",
       "      <td>0</td>\n",
       "      <td>1</td>\n",
       "      <td>0</td>\n",
       "      <td>0</td>\n",
       "      <td>0</td>\n",
       "      <td>0</td>\n",
       "      <td>0</td>\n",
       "      <td>0</td>\n",
       "      <td>1</td>\n",
       "    </tr>\n",
       "  </tbody>\n",
       "</table>\n",
       "<p>5 rows × 32 columns</p>\n",
       "</div>"
      ],
      "text/plain": [
       "   Churn  customer.SeniorCitizen  customer.Partner  customer.Dependents  \\\n",
       "0      0                       0                 1                    1   \n",
       "1      0                       0                 0                    0   \n",
       "2      1                       0                 0                    0   \n",
       "3      1                       1                 1                    0   \n",
       "4      1                       1                 1                    0   \n",
       "\n",
       "   customer.tenure  phone.PhoneService  account.PaperlessBilling  \\\n",
       "0                9                   1                         1   \n",
       "1                9                   1                         0   \n",
       "2                4                   1                         1   \n",
       "3               13                   1                         1   \n",
       "4                3                   1                         1   \n",
       "\n",
       "   account.Charges.Monthly  account.Charges.Total  Daily_Charges  ...  \\\n",
       "0                     65.6                 593.30       2.156476  ...   \n",
       "1                     59.9                 542.40       1.969099  ...   \n",
       "2                     73.9                 280.85       2.429323  ...   \n",
       "3                     98.0                1237.85       3.221565  ...   \n",
       "4                     83.9                 267.40       2.758054  ...   \n",
       "\n",
       "   internet.TechSupport_Yes  internet.StreamingTV_No internet service  \\\n",
       "0                         1                                         0   \n",
       "1                         0                                         0   \n",
       "2                         0                                         0   \n",
       "3                         0                                         0   \n",
       "4                         1                                         0   \n",
       "\n",
       "   internet.StreamingTV_Yes  internet.StreamingMovies_No internet service  \\\n",
       "0                         1                                             0   \n",
       "1                         0                                             0   \n",
       "2                         0                                             0   \n",
       "3                         1                                             0   \n",
       "4                         1                                             0   \n",
       "\n",
       "   internet.StreamingMovies_Yes  account.Contract_One year  \\\n",
       "0                             0                          1   \n",
       "1                             1                          0   \n",
       "2                             0                          0   \n",
       "3                             1                          0   \n",
       "4                             0                          0   \n",
       "\n",
       "   account.Contract_Two year  account.PaymentMethod_Credit card (automatic)  \\\n",
       "0                          0                                              0   \n",
       "1                          0                                              0   \n",
       "2                          0                                              0   \n",
       "3                          0                                              0   \n",
       "4                          0                                              0   \n",
       "\n",
       "   account.PaymentMethod_Electronic check  account.PaymentMethod_Mailed check  \n",
       "0                                       0                                   1  \n",
       "1                                       0                                   1  \n",
       "2                                       1                                   0  \n",
       "3                                       1                                   0  \n",
       "4                                       0                                   1  \n",
       "\n",
       "[5 rows x 32 columns]"
      ]
     },
     "execution_count": 32,
     "metadata": {},
     "output_type": "execute_result"
    }
   ],
   "source": [
    "# Aplicar One-Hot Encoding\n",
    "df_encoded = pd.get_dummies(df_encoding, columns=colunas_categoricas, drop_first=True, dtype=int)\n",
    "\n",
    "# Visualizar as novas colunas\n",
    "df_encoded.head()"
   ]
  },
  {
   "cell_type": "code",
   "execution_count": 33,
   "id": "bb05baad",
   "metadata": {},
   "outputs": [
    {
     "name": "stdout",
     "output_type": "stream",
     "text": [
      "<class 'pandas.core.frame.DataFrame'>\n",
      "RangeIndex: 7043 entries, 0 to 7042\n",
      "Data columns (total 32 columns):\n",
      " #   Column                                         Non-Null Count  Dtype  \n",
      "---  ------                                         --------------  -----  \n",
      " 0   Churn                                          7043 non-null   int64  \n",
      " 1   customer.SeniorCitizen                         7043 non-null   int64  \n",
      " 2   customer.Partner                               7043 non-null   int64  \n",
      " 3   customer.Dependents                            7043 non-null   int64  \n",
      " 4   customer.tenure                                7043 non-null   int64  \n",
      " 5   phone.PhoneService                             7043 non-null   int64  \n",
      " 6   account.PaperlessBilling                       7043 non-null   int64  \n",
      " 7   account.Charges.Monthly                        7043 non-null   float64\n",
      " 8   account.Charges.Total                          7043 non-null   float64\n",
      " 9   Daily_Charges                                  7043 non-null   float64\n",
      " 10  customer.gender_Male                           7043 non-null   int64  \n",
      " 11  phone.MultipleLines_No phone service           7043 non-null   int64  \n",
      " 12  phone.MultipleLines_Yes                        7043 non-null   int64  \n",
      " 13  internet.InternetService_Fiber optic           7043 non-null   int64  \n",
      " 14  internet.InternetService_No                    7043 non-null   int64  \n",
      " 15  internet.OnlineSecurity_No internet service    7043 non-null   int64  \n",
      " 16  internet.OnlineSecurity_Yes                    7043 non-null   int64  \n",
      " 17  internet.OnlineBackup_No internet service      7043 non-null   int64  \n",
      " 18  internet.OnlineBackup_Yes                      7043 non-null   int64  \n",
      " 19  internet.DeviceProtection_No internet service  7043 non-null   int64  \n",
      " 20  internet.DeviceProtection_Yes                  7043 non-null   int64  \n",
      " 21  internet.TechSupport_No internet service       7043 non-null   int64  \n",
      " 22  internet.TechSupport_Yes                       7043 non-null   int64  \n",
      " 23  internet.StreamingTV_No internet service       7043 non-null   int64  \n",
      " 24  internet.StreamingTV_Yes                       7043 non-null   int64  \n",
      " 25  internet.StreamingMovies_No internet service   7043 non-null   int64  \n",
      " 26  internet.StreamingMovies_Yes                   7043 non-null   int64  \n",
      " 27  account.Contract_One year                      7043 non-null   int64  \n",
      " 28  account.Contract_Two year                      7043 non-null   int64  \n",
      " 29  account.PaymentMethod_Credit card (automatic)  7043 non-null   int64  \n",
      " 30  account.PaymentMethod_Electronic check         7043 non-null   int64  \n",
      " 31  account.PaymentMethod_Mailed check             7043 non-null   int64  \n",
      "dtypes: float64(3), int64(29)\n",
      "memory usage: 1.7 MB\n"
     ]
    }
   ],
   "source": [
    "df_encoded.info()"
   ]
  },
  {
   "cell_type": "markdown",
   "id": "f51f3b6e",
   "metadata": {},
   "source": [
    "### 1.4 Verificação da Proporção de Evasão"
   ]
  },
  {
   "cell_type": "code",
   "execution_count": 34,
   "id": "6bc6b512",
   "metadata": {},
   "outputs": [
    {
     "name": "stdout",
     "output_type": "stream",
     "text": [
      "Churn\n",
      "0    5174\n",
      "1    1869\n",
      "Name: count, dtype: int64\n",
      "Para 0 = Não Churn (Permaneceu), Para 1 = Churn (Evadiu)\n"
     ]
    }
   ],
   "source": [
    "# Verificando a contagem de cada classe na coluna 'Churn'\n",
    "\n",
    "count_churn = df_encoded['Churn'].value_counts()\n",
    "print(count_churn)\n",
    "print(\"Para 0 = Não Churn (Permaneceu), Para 1 = Churn (Evadiu)\")"
   ]
  },
  {
   "cell_type": "code",
   "execution_count": 35,
   "id": "cac21666",
   "metadata": {},
   "outputs": [
    {
     "name": "stdout",
     "output_type": "stream",
     "text": [
      "Churn\n",
      "0    73.46\n",
      "1    26.54\n",
      "Name: proportion, dtype: float64\n"
     ]
    }
   ],
   "source": [
    "# Calculando a proporção em porcentagem\n",
    "\n",
    "prop_churn = df_encoded['Churn'].value_counts(normalize=True) * 100\n",
    "print(prop_churn.round(2))"
   ]
  },
  {
   "cell_type": "code",
   "execution_count": 36,
   "id": "81b035c3",
   "metadata": {},
   "outputs": [
    {
     "name": "stdout",
     "output_type": "stream",
     "text": [
      "\n",
      "Avaliação de desequilíbrio:\n",
      "As classes estão desequilibradas.\n",
      "Isso pode impactar negativamente o desempenho dos modelos preditivos.\n",
      "Considere aplicar técnicas como SMOTE, undersampling ou class_weight.\n"
     ]
    }
   ],
   "source": [
    "# Avaliação de desequilíbrio\n",
    "threshold = 0.10  # margem de 10% entre as classes para considerar equilibrado\n",
    "\n",
    "majority_class_prop = prop_churn.max()\n",
    "minority_class_prop = prop_churn.min()\n",
    "\n",
    "print(\"\\nAvaliação de desequilíbrio:\")\n",
    "if (majority_class_prop - minority_class_prop) > (threshold * 100):\n",
    "    print(\"As classes estão desequilibradas.\")\n",
    "    print(\"Isso pode impactar negativamente o desempenho dos modelos preditivos.\")\n",
    "    print(\"Considere aplicar técnicas como SMOTE, undersampling ou class_weight.\")\n",
    "else:\n",
    "    print(\"As classes estão razoavelmente equilibradas.\")\n"
   ]
  },
  {
   "cell_type": "code",
   "execution_count": 37,
   "id": "766dce4a",
   "metadata": {},
   "outputs": [],
   "source": [
    "import matplotlib.pyplot as plt\n",
    "import seaborn as sns"
   ]
  },
  {
   "cell_type": "code",
   "execution_count": 39,
   "id": "c3436ea0",
   "metadata": {},
   "outputs": [
    {
     "name": "stderr",
     "output_type": "stream",
     "text": [
      "C:\\Users\\Gabriel\\AppData\\Local\\Temp\\ipykernel_5988\\1972528806.py:3: FutureWarning: \n",
      "\n",
      "Passing `palette` without assigning `hue` is deprecated and will be removed in v0.14.0. Assign the `x` variable to `hue` and set `legend=False` for the same effect.\n",
      "\n",
      "  ax = sns.countplot(x='Churn', data=df_encoded, palette='Set2')\n"
     ]
    },
    {
     "data": {
      "image/png": "[encoded data removed]",
      "text/plain": [
       "<Figure size 1000x700 with 1 Axes>"
      ]
     },
     "metadata": {},
     "output_type": "display_data"
    }
   ],
   "source": [
    "# Visualização da proporção com um gráfico de barras\n",
    "plt.figure(figsize=(10, 7))\n",
    "ax = sns.countplot(x='Churn', data=df_encoded, palette='Set2')\n",
    "plt.title('Distribuição de clientes por Status de Evasão (Churn)', fontsize=16)\n",
    "plt.xlabel('Status do Cliente', fontsize=12)\n",
    "plt.ylabel('Número de Clientes', fontsize=12)\n",
    "plt.xticks(ticks=[0, 1], labels=['0 - Permaneceu', '1 - Evadiu'])\n",
    "\n",
    "# Adicionando os rótulos de contagem e porcentagem\n",
    "total = len(df_encoded['Churn'])\n",
    "for p in ax.patches:\n",
    "    height = p.get_height()\n",
    "    ax.text(p.get_x() + p.get_width() / 2.,\n",
    "            height +3,\n",
    "            f'{height}\\n({(height/total)*100:.1f}%)',\n",
    "            ha=\"center\", va='bottom')\n",
    "\n",
    "plt.show()"
   ]
  },
  {
   "cell_type": "markdown",
   "id": "bcf41832",
   "metadata": {},
   "source": [
    "A análise da variável alvo `Churn` revela um desequilíbrio entre as classes. Aproximadamente 73% dos clientes permaneceram ativos, enquanto 27% evadiram. Esse desequilíbrio pode impactar negativamente os modelos preditivos, favorecendo a classe majoritária e resultando em baixa capacidade de detectar corretamente os casos de churn. Por isso, técnicas de balanceamento, como oversampling (SMOTE) ou uso de métricas específicas (F1-score, recall), devem ser consideradas nas próximas etapas.\n"
   ]
  },
  {
   "cell_type": "markdown",
   "id": "85956dd7",
   "metadata": {},
   "source": [
    "### 1.5 Balanceamento de Classes"
   ]
  },
  {
   "cell_type": "code",
   "execution_count": 40,
   "id": "796cdd4b",
   "metadata": {},
   "outputs": [],
   "source": [
    "# Usado o df_encoded que foi gerado na etapa de encoding\n",
    "\n",
    "df_scaled = df_encoded.copy()"
   ]
  },
  {
   "cell_type": "code",
   "execution_count": 41,
   "id": "2bf92b21",
   "metadata": {},
   "outputs": [],
   "source": [
    "X = df_scaled.drop('Churn', axis=1)\n",
    "y = df_scaled['Churn']"
   ]
  },
  {
   "cell_type": "code",
   "execution_count": 42,
   "id": "37649f58",
   "metadata": {},
   "outputs": [],
   "source": [
    "from sklearn.preprocessing import StandardScaler\n",
    "\n",
    "# Aplicando o StandardScaler\n",
    "scaler = StandardScaler()\n",
    "X_scaled = scaler.fit_transform(X)\n"
   ]
  },
  {
   "cell_type": "code",
   "execution_count": 43,
   "id": "6de32662",
   "metadata": {},
   "outputs": [],
   "source": [
    "from imblearn.over_sampling import SMOTE"
   ]
  },
  {
   "cell_type": "code",
   "execution_count": 44,
   "id": "b5b34153",
   "metadata": {},
   "outputs": [],
   "source": [
    "# Aplicando SMOTE\n",
    "oversampling = SMOTE(random_state=42)\n",
    "X_resampled, y_resampled = oversampling.fit_resample(X_scaled, y)\n"
   ]
  },
  {
   "cell_type": "code",
   "execution_count": 45,
   "id": "d7289e5e",
   "metadata": {},
   "outputs": [],
   "source": [
    "# Reconstruindo o DataFrame balanceado\n",
    "X_resampled_df = pd.DataFrame(X_resampled, columns=X.columns)\n",
    "df_balanceado = X_resampled_df.copy()\n",
    "df_balanceado['Churn'] = y_resampled.values"
   ]
  },
  {
   "cell_type": "code",
   "execution_count": 46,
   "id": "6e7afda2",
   "metadata": {},
   "outputs": [
    {
     "name": "stdout",
     "output_type": "stream",
     "text": [
      "Churn\n",
      "0    5174\n",
      "1    5174\n",
      "Name: count, dtype: int64\n"
     ]
    }
   ],
   "source": [
    "print(df_balanceado['Churn'].value_counts())"
   ]
  },
  {
   "cell_type": "code",
   "execution_count": 47,
   "id": "b3be4b85",
   "metadata": {},
   "outputs": [
    {
     "name": "stderr",
     "output_type": "stream",
     "text": [
      "C:\\Users\\Gabriel\\AppData\\Local\\Temp\\ipykernel_5988\\2000731372.py:5: FutureWarning: \n",
      "\n",
      "Passing `palette` without assigning `hue` is deprecated and will be removed in v0.14.0. Assign the `x` variable to `hue` and set `legend=False` for the same effect.\n",
      "\n",
      "  sns.countplot(x='Churn', data=df_balanceado, palette='Set2')\n"
     ]
    },
    {
     "data": {
      "image/png": "[encoded data removed]",
      "text/plain": [
       "<Figure size 800x500 with 1 Axes>"
      ]
     },
     "metadata": {},
     "output_type": "display_data"
    }
   ],
   "source": [
    "import seaborn as sns\n",
    "import matplotlib.pyplot as plt\n",
    "\n",
    "plt.figure(figsize=(8, 5))\n",
    "sns.countplot(x='Churn', data=df_balanceado, palette='Set2')\n",
    "plt.title('Distribuição Balanceada com SMOTE')\n",
    "plt.xlabel('Churn')\n",
    "plt.ylabel('Número de Clientes')\n",
    "plt.show()\n"
   ]
  },
  {
   "cell_type": "markdown",
   "id": "3fc1948b",
   "metadata": {},
   "source": [
    "# 🎯 Correlação e Seleção de Variáveis"
   ]
  },
  {
   "cell_type": "markdown",
   "id": "f8a9116d",
   "metadata": {},
   "source": [
    "### 2.1 Separação dos Dados"
   ]
  },
  {
   "cell_type": "code",
   "execution_count": null,
   "id": "dff4f482",
   "metadata": {},
   "outputs": [],
   "source": []
  }
 ],
 "metadata": {
  "kernelspec": {
   "display_name": "Python (venv)",
   "language": "python",
   "name": "venv"
  },
  "language_info": {
   "codemirror_mode": {
    "name": "ipython",
    "version": 3
   },
   "file_extension": ".py",
   "mimetype": "text/x-python",
   "name": "python",
   "nbconvert_exporter": "python",
   "pygments_lexer": "ipython3",
   "version": "3.13.1"
  }
 },
 "nbformat": 4,
 "nbformat_minor": 5
}
